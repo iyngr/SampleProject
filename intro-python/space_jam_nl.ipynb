{
 "cells": [
  {
   "cell_type": "code",
   "execution_count": null,
   "metadata": {
    "collapsed": true
   },
   "outputs": [],
   "source": [
    "import pandas as pd\n"
   ]
  },
  {
   "cell_type": "code",
   "execution_count": null,
   "outputs": [],
   "source": [
    "# Import the CSV file and create a DataFrame.\n",
    "player_df_final = pd.read_csv('player_data_final.csv')"
   ],
   "metadata": {
    "collapsed": false,
    "pycharm": {
     "name": "#%%\n"
    }
   }
  },
  {
   "cell_type": "code",
   "execution_count": null,
   "outputs": [],
   "source": [
    "# Create a DataFrame of only Tune Squad players.\n",
    "ts_df = player_df_final.iloc[26: , :]\n",
    "ts_df"
   ],
   "metadata": {
    "collapsed": false,
    "pycharm": {
     "name": "#%%\n"
    }
   }
  },
  {
   "cell_type": "code",
   "execution_count": null,
   "outputs": [],
   "source": [
    "# Import Tune Squad player names.\n",
    "ts_name_df = pd.read_csv('tune_squad.csv', sep='\\t')\n",
    "ts_name_df"
   ],
   "metadata": {
    "collapsed": false,
    "pycharm": {
     "name": "#%%\n"
    }
   }
  },
  {
   "cell_type": "code",
   "execution_count": null,
   "outputs": [],
   "source": [
    "# Merge the two DataFrames.\n",
    "ts_df = pd.merge(ts_df, ts_name_df, on='ID', how='left', suffixes=('_type', '_name'))\n",
    "ts_df.head()"
   ],
   "metadata": {
    "collapsed": false,
    "pycharm": {
     "name": "#%%\n"
    }
   }
  },
  {
   "cell_type": "code",
   "execution_count": null,
   "outputs": [],
   "source": [
    "# Rearrange the columns to put the ID and player_name columns next to each other.\n",
    "column_list = list(ts_df)\n",
    "\n",
    "player_name = column_list.pop()\n",
    "column_list[1] = player_name\n",
    "\n",
    "ts_df = ts_df[column_list]\n",
    "ts_df.head()"
   ],
   "metadata": {
    "collapsed": false,
    "pycharm": {
     "name": "#%%\n"
    }
   }
  },
  {
   "cell_type": "code",
   "execution_count": null,
   "outputs": [],
   "source": [
    "# Create a list of only the column names we are interested in.\n",
    "game_stat_cols = list(ts_df.iloc[:, 7:-1])\n",
    "game_stat_stdevs = []\n",
    "\n",
    "# Create a list of standard deviations for each stat.\n",
    "for stat in game_stat_cols:\n",
    "    game_stat_stdevs.append(ts_df[stat].std())\n",
    "\n",
    "# Create a Series of the standard deviations, with the stat names as the index.\n",
    "stdev_s = pd.Series(game_stat_stdevs, index=game_stat_cols)\n",
    "stdev_s"
   ],
   "metadata": {
    "collapsed": false,
    "pycharm": {
     "name": "#%%\n"
    }
   }
  },
  {
   "cell_type": "code",
   "execution_count": null,
   "outputs": [],
   "source": [],
   "metadata": {
    "collapsed": false,
    "pycharm": {
     "name": "#%%\n"
    }
   }
  },
  {
   "cell_type": "code",
   "execution_count": null,
   "metadata": {},
   "outputs": [],
   "source": []
  },
  {
   "cell_type": "code",
   "execution_count": null,
   "metadata": {},
   "outputs": [],
   "source": [
    "# Create a DataFrame of only Tune Squad players.\n",
    "ts_df = player_df_final.iloc[26: , :]\n",
    "ts_df"
   ]
  },
  {
   "cell_type": "code",
   "execution_count": null,
   "metadata": {},
   "outputs": [],
   "source": [
    "# Import Tune Squad player names.\n",
    "ts_name_df = pd.read_csv('tune_squad.csv', sep='\\t')\n",
    "ts_name_df"
   ]
  },
  {
   "cell_type": "code",
   "execution_count": null,
   "metadata": {},
   "outputs": [],
   "source": [
    "# Merge the two DataFrames.\n",
    "ts_df = pd.merge(ts_df, ts_name_df, on='ID', how='left', suffixes=('_type', '_name'))\n",
    "ts_df.head()"
   ]
  },
  {
   "cell_type": "code",
   "execution_count": null,
   "metadata": {},
   "outputs": [],
   "source": [
    "# Rearrange the columns to put the ID and player_name columns next to each other.\n",
    "column_list = list(ts_df)\n",
    "\n",
    "player_name = column_list.pop()\n",
    "column_list[1] = player_name\n",
    "\n",
    "ts_df = ts_df[column_list]\n",
    "ts_df.head()"
   ]
  },
  {
   "cell_type": "code",
   "execution_count": null,
   "metadata": {},
   "outputs": [],
   "source": [
    "# Create a list of only the column names we are interested in.\n",
    "game_stat_cols = list(ts_df.iloc[:, 7:-1])\n",
    "game_stat_stdevs = []\n",
    "\n",
    "# Create a list of standard deviations for each stat.\n",
    "for stat in game_stat_cols:\n",
    "    game_stat_stdevs.append(ts_df[stat].std())\n",
    "\n",
    "# Create a Series of the standard deviations, with the stat names as the index.\n",
    "stdev_s = pd.Series(game_stat_stdevs, index=game_stat_cols)\n",
    "stdev_s"
   ]
  },
  {
   "cell_type": "code",
   "execution_count": null,
   "metadata": {},
   "outputs": [],
   "source": []
  }
 ],
 "metadata": {
  "kernelspec": {
   "display_name": "Python 3",
   "language": "python",
   "name": "python3"
  },
  "language_info": {
   "codemirror_mode": {
    "name": "ipython",
    "version": 3
   },
   "file_extension": ".py",
   "mimetype": "text/x-python",
   "name": "python",
   "nbconvert_exporter": "python",
   "pygments_lexer": "ipython3",
   "version": "3.8.5"
  }
 },
 "nbformat": 4,
 "nbformat_minor": 1
}